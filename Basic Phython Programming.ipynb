{
  "nbformat": 4,
  "nbformat_minor": 0,
  "metadata": {
    "colab": {
      "name": "Untitled1.ipynb",
      "provenance": [],
      "authorship_tag": "ABX9TyM2ur5kED6e6/1nnyERGuRF",
      "include_colab_link": true
    },
    "kernelspec": {
      "name": "python3",
      "display_name": "Python 3"
    },
    "language_info": {
      "name": "python"
    }
  },
  "cells": [
    {
      "cell_type": "markdown",
      "metadata": {
        "id": "view-in-github",
        "colab_type": "text"
      },
      "source": [
        "<a href=\"https://colab.research.google.com/github/GeraldChristianBalindan/CPEN21A-CPE-1-2/blob/main/Basic%20Phython%20Programming.ipynb\" target=\"_parent\"><img src=\"https://colab.research.google.com/assets/colab-badge.svg\" alt=\"Open In Colab\"/></a>"
      ]
    },
    {
      "cell_type": "markdown",
      "metadata": {
        "id": "gOQneuQzEhCL"
      },
      "source": [
        "###Welcome to Colab"
      ]
    },
    {
      "cell_type": "markdown",
      "metadata": {
        "id": "w9hSmitiErE4"
      },
      "source": [
        "###Phython Indentation"
      ]
    },
    {
      "cell_type": "code",
      "metadata": {
        "colab": {
          "base_uri": "https://localhost:8080/"
        },
        "id": "nq5BeTx2FOCP",
        "outputId": "008d6027-0607-4053-bb72-76001467f858"
      },
      "source": [
        "if 5>2: \n",
        " print(\"five is greater than two!\")"
      ],
      "execution_count": 6,
      "outputs": [
        {
          "output_type": "stream",
          "name": "stdout",
          "text": [
            "five is greater than two!\n"
          ]
        }
      ]
    },
    {
      "cell_type": "markdown",
      "metadata": {
        "id": "BTdT3C07F1_b"
      },
      "source": [
        "###Phython Comment"
      ]
    },
    {
      "cell_type": "code",
      "metadata": {
        "colab": {
          "base_uri": "https://localhost:8080/"
        },
        "id": "-tXkxhi0F-ir",
        "outputId": "7a518302-263e-44a6-a658-87a4266865ec"
      },
      "source": [
        "print(\"Hello, Sekai=World\")"
      ],
      "execution_count": 8,
      "outputs": [
        {
          "output_type": "stream",
          "name": "stdout",
          "text": [
            "Hello, Sekai=World\n"
          ]
        }
      ]
    },
    {
      "cell_type": "markdown",
      "metadata": {
        "id": "5ZFrY9CvGQOv"
      },
      "source": [
        "###Phython Variables"
      ]
    },
    {
      "cell_type": "code",
      "metadata": {
        "colab": {
          "base_uri": "https://localhost:8080/"
        },
        "id": "PTLTYmLSHhJ8",
        "outputId": "ae4d5467-02e8-4880-ef50-5f674f6a3c05"
      },
      "source": [
        "x = 2\n",
        "x,y = 2,1\n",
        "x,y,z = 2,1,3\n",
        "print(x,y)\n",
        "print(x,y,z)"
      ],
      "execution_count": 44,
      "outputs": [
        {
          "output_type": "stream",
          "name": "stdout",
          "text": [
            "2 1\n",
            "2 1 3\n"
          ]
        }
      ]
    },
    {
      "cell_type": "markdown",
      "metadata": {
        "id": "PCHCzMtdILmk"
      },
      "source": [
        "###Casting"
      ]
    },
    {
      "cell_type": "code",
      "metadata": {
        "colab": {
          "base_uri": "https://localhost:8080/"
        },
        "id": "qB8dyfChIPcg",
        "outputId": "41b92347-124e-44fd-8ce0-5f2d65c5b281"
      },
      "source": [
        "x = \"Gerald\" #This is a type of string\n",
        "x = int(5)\n",
        "x = float(5)\n",
        "print(x)"
      ],
      "execution_count": 16,
      "outputs": [
        {
          "output_type": "stream",
          "name": "stdout",
          "text": [
            "5.0\n"
          ]
        }
      ]
    },
    {
      "cell_type": "markdown",
      "metadata": {
        "id": "94SGWiIeI5IP"
      },
      "source": [
        "### Type()Function"
      ]
    },
    {
      "cell_type": "code",
      "metadata": {
        "colab": {
          "base_uri": "https://localhost:8080/"
        },
        "id": "j_SdzNuqI_kk",
        "outputId": "4a64c9b3-8c51-4e6f-a5d3-642e0ed627af"
      },
      "source": [
        "X = 13\n",
        "y = \"Zelda\"\n",
        "print(type(x))\n",
        "print(type(y))"
      ],
      "execution_count": 17,
      "outputs": [
        {
          "output_type": "stream",
          "name": "stdout",
          "text": [
            "<class 'float'>\n",
            "<class 'str'>\n"
          ]
        }
      ]
    },
    {
      "cell_type": "markdown",
      "metadata": {
        "id": "7XHSKrHFJe9R"
      },
      "source": [
        "###Double Quotes or Single Quotes"
      ]
    },
    {
      "cell_type": "code",
      "metadata": {
        "colab": {
          "base_uri": "https://localhost:8080/"
        },
        "id": "5RYjNIRZJmQ6",
        "outputId": "27e5daac-ed80-47bf-d6c4-f005285c1b57"
      },
      "source": [
        "x = \"rookie\"\n",
        "y = 'rookie'\n",
        "print(x)\n",
        "print(y)"
      ],
      "execution_count": 19,
      "outputs": [
        {
          "output_type": "stream",
          "name": "stdout",
          "text": [
            "rookie\n",
            "rookie\n"
          ]
        }
      ]
    },
    {
      "cell_type": "markdown",
      "metadata": {
        "id": "eTEBASvKKDfz"
      },
      "source": [
        "###Case Sensitive"
      ]
    },
    {
      "cell_type": "code",
      "metadata": {
        "colab": {
          "base_uri": "https://localhost:8080/"
        },
        "id": "SR7oPCW5KVry",
        "outputId": "8383f3ba-2198-4c69-9102-b2d47898ae5a"
      },
      "source": [
        "a = \"Yin\"\n",
        "A = \"Yang\"\n",
        "print(a)\n",
        "print(A)"
      ],
      "execution_count": 22,
      "outputs": [
        {
          "output_type": "stream",
          "name": "stdout",
          "text": [
            "Yin\n",
            "Yang\n"
          ]
        }
      ]
    },
    {
      "cell_type": "markdown",
      "metadata": {
        "id": "0ELLy5uSKwbJ"
      },
      "source": [
        "###Multiple Variables"
      ]
    },
    {
      "cell_type": "code",
      "metadata": {
        "colab": {
          "base_uri": "https://localhost:8080/"
        },
        "id": "fZF735k4K4Go",
        "outputId": "ccd1da31-62f7-4134-f878-c04d88dc58fe"
      },
      "source": [
        "x,y,z = \"Prench Prays\",\"Burgir\",\"Crossan\"\n",
        "print(x)\n",
        "print(y)\n",
        "print(z)"
      ],
      "execution_count": 23,
      "outputs": [
        {
          "output_type": "stream",
          "name": "stdout",
          "text": [
            "Prench Prays\n",
            "Burgir\n",
            "Crossan\n"
          ]
        }
      ]
    },
    {
      "cell_type": "markdown",
      "metadata": {
        "id": "DYLi6O3nLlV7"
      },
      "source": [
        "###One to Multiple Variable"
      ]
    },
    {
      "cell_type": "code",
      "metadata": {
        "colab": {
          "base_uri": "https://localhost:8080/"
        },
        "id": "XwHmruEYMRzC",
        "outputId": "68260772-b5f7-4d54-8a95-2d7709f2d14e"
      },
      "source": [
        "xy = xz = zz = \"Calculus\"\n",
        "print(xy)\n",
        "print(xz)\n",
        "print(zz)"
      ],
      "execution_count": 24,
      "outputs": [
        {
          "output_type": "stream",
          "name": "stdout",
          "text": [
            "Calculus\n",
            "Calculus\n",
            "Calculus\n"
          ]
        }
      ]
    },
    {
      "cell_type": "markdown",
      "metadata": {
        "id": "rIq5a0REM6hh"
      },
      "source": [
        "###Output Variables"
      ]
    },
    {
      "cell_type": "code",
      "metadata": {
        "colab": {
          "base_uri": "https://localhost:8080/"
        },
        "id": "tVgFCjwiNGKM",
        "outputId": "f3f3d0e2-ab18-4c82-ffa0-2cc242415a5c"
      },
      "source": [
        "x = \"I can be a CPE graduate \"\n",
        "y = \"I hope that \"\n",
        "print(\"My name is Gerald and i believe \" + x)\n",
        "print(y+x)"
      ],
      "execution_count": 29,
      "outputs": [
        {
          "output_type": "stream",
          "name": "stdout",
          "text": [
            "My name is Gerald and i believe I can be a CPE graduate \n",
            "I hope that I can be a CPE graduate \n"
          ]
        }
      ]
    },
    {
      "cell_type": "markdown",
      "metadata": {
        "id": "TCtsqG_AOUza"
      },
      "source": [
        "###Arithmetic Operations"
      ]
    },
    {
      "cell_type": "code",
      "metadata": {
        "colab": {
          "base_uri": "https://localhost:8080/"
        },
        "id": "gbYXPy2cOb0X",
        "outputId": "030d71b6-e5e2-4443-842f-557988950141"
      },
      "source": [
        "x = 69\n",
        "y = 420\n",
        "print(x+y)\n",
        "print((x+y)-(y-x))\n",
        "sum= x+y\n",
        "print(sum)"
      ],
      "execution_count": 34,
      "outputs": [
        {
          "output_type": "stream",
          "name": "stdout",
          "text": [
            "489\n",
            "138\n",
            "489\n"
          ]
        }
      ]
    },
    {
      "cell_type": "markdown",
      "metadata": {
        "id": "-M_DuA6mP3Qi"
      },
      "source": [
        "###Assignment Operators"
      ]
    },
    {
      "cell_type": "code",
      "metadata": {
        "id": "PmazQujQQ33P"
      },
      "source": [
        "x=30\n",
        "y=40\n",
        "z=30"
      ],
      "execution_count": 56,
      "outputs": []
    },
    {
      "cell_type": "code",
      "metadata": {
        "colab": {
          "base_uri": "https://localhost:8080/"
        },
        "id": "QEK4MYOGUQY6",
        "outputId": "ee4f5a67-b335-45b2-a3af-2081ed2a4c46"
      },
      "source": [
        "x+=70\n",
        "print(x)"
      ],
      "execution_count": 57,
      "outputs": [
        {
          "output_type": "stream",
          "name": "stdout",
          "text": [
            "100\n"
          ]
        }
      ]
    },
    {
      "cell_type": "code",
      "metadata": {
        "colab": {
          "base_uri": "https://localhost:8080/"
        },
        "id": "H8Tsd61qUlBK",
        "outputId": "b4a8385a-d9ea-414c-89c3-72b3bf22e08c"
      },
      "source": [
        "y*=10\n",
        "print(y)"
      ],
      "execution_count": 51,
      "outputs": [
        {
          "output_type": "stream",
          "name": "stdout",
          "text": [
            "4000\n"
          ]
        }
      ]
    },
    {
      "cell_type": "code",
      "metadata": {
        "colab": {
          "base_uri": "https://localhost:8080/"
        },
        "id": "OabNHBUFVIwT",
        "outputId": "bb44838e-b2ed-4353-e63e-f9b6228afbea"
      },
      "source": [
        "z+=70\n",
        "print(z)"
      ],
      "execution_count": 58,
      "outputs": [
        {
          "output_type": "stream",
          "name": "stdout",
          "text": [
            "100\n"
          ]
        }
      ]
    },
    {
      "cell_type": "markdown",
      "metadata": {
        "id": "tGQXC3huU0Dn"
      },
      "source": [
        "#Comparison Operator"
      ]
    },
    {
      "cell_type": "code",
      "metadata": {
        "colab": {
          "base_uri": "https://localhost:8080/"
        },
        "id": "ABOX_hSnQPBX",
        "outputId": "b94801e6-10c4-46a7-b55a-867d4c814ba0"
      },
      "source": [
        "x==z "
      ],
      "execution_count": 59,
      "outputs": [
        {
          "output_type": "execute_result",
          "data": {
            "text/plain": [
              "True"
            ]
          },
          "metadata": {},
          "execution_count": 59
        }
      ]
    },
    {
      "cell_type": "code",
      "metadata": {
        "colab": {
          "base_uri": "https://localhost:8080/"
        },
        "id": "xGA4Gz6tVAxh",
        "outputId": "b50bee9c-3e50-4258-d79a-0182d857dbea"
      },
      "source": [
        "x!=y"
      ],
      "execution_count": 61,
      "outputs": [
        {
          "output_type": "execute_result",
          "data": {
            "text/plain": [
              "True"
            ]
          },
          "metadata": {},
          "execution_count": 61
        }
      ]
    },
    {
      "cell_type": "code",
      "metadata": {
        "colab": {
          "base_uri": "https://localhost:8080/"
        },
        "id": "CEWoILdmVvGT",
        "outputId": "3dc38c84-351e-4a71-b38a-b818f1752631"
      },
      "source": [
        "z!=x"
      ],
      "execution_count": 62,
      "outputs": [
        {
          "output_type": "execute_result",
          "data": {
            "text/plain": [
              "False"
            ]
          },
          "metadata": {},
          "execution_count": 62
        }
      ]
    },
    {
      "cell_type": "markdown",
      "metadata": {
        "id": "fkWzCxwjV0AU"
      },
      "source": [
        "###Logical Operator"
      ]
    },
    {
      "cell_type": "code",
      "metadata": {
        "colab": {
          "base_uri": "https://localhost:8080/"
        },
        "id": "sSOhXkR6V5Yc",
        "outputId": "24ffb0b0-8c11-499f-896e-defcf531eb5f"
      },
      "source": [
        "x>120 and y>3900"
      ],
      "execution_count": 63,
      "outputs": [
        {
          "output_type": "execute_result",
          "data": {
            "text/plain": [
              "False"
            ]
          },
          "metadata": {},
          "execution_count": 63
        }
      ]
    },
    {
      "cell_type": "code",
      "metadata": {
        "colab": {
          "base_uri": "https://localhost:8080/"
        },
        "id": "DkdnQRH3WQp-",
        "outputId": "a230f001-dcce-4966-93ee-93e5602333f1"
      },
      "source": [
        "z>90 or x>110"
      ],
      "execution_count": 67,
      "outputs": [
        {
          "output_type": "execute_result",
          "data": {
            "text/plain": [
              "True"
            ]
          },
          "metadata": {},
          "execution_count": 67
        }
      ]
    },
    {
      "cell_type": "code",
      "metadata": {
        "colab": {
          "base_uri": "https://localhost:8080/"
        },
        "id": "dEWIO0YVWnEJ",
        "outputId": "e5c42e94-3987-4bb6-de26-d1876b86a9fa"
      },
      "source": [
        "not(y>3700 and x>110)"
      ],
      "execution_count": 77,
      "outputs": [
        {
          "output_type": "execute_result",
          "data": {
            "text/plain": [
              "True"
            ]
          },
          "metadata": {},
          "execution_count": 77
        }
      ]
    },
    {
      "cell_type": "markdown",
      "metadata": {
        "id": "5Q57jiPzXFM2"
      },
      "source": [
        "###Identity Operators"
      ]
    },
    {
      "cell_type": "code",
      "metadata": {
        "colab": {
          "base_uri": "https://localhost:8080/"
        },
        "id": "eJAKlAOEXLPJ",
        "outputId": "84891926-236a-4edc-a38d-aca51945e71d"
      },
      "source": [
        "x is not y"
      ],
      "execution_count": 72,
      "outputs": [
        {
          "output_type": "execute_result",
          "data": {
            "text/plain": [
              "True"
            ]
          },
          "metadata": {},
          "execution_count": 72
        }
      ]
    },
    {
      "cell_type": "code",
      "metadata": {
        "colab": {
          "base_uri": "https://localhost:8080/"
        },
        "id": "k_-ABKCxXTOl",
        "outputId": "63e87768-b93b-420f-d3e2-bb50b4a2e347"
      },
      "source": [
        "x is y"
      ],
      "execution_count": 73,
      "outputs": [
        {
          "output_type": "execute_result",
          "data": {
            "text/plain": [
              "False"
            ]
          },
          "metadata": {},
          "execution_count": 73
        }
      ]
    },
    {
      "cell_type": "code",
      "metadata": {
        "colab": {
          "base_uri": "https://localhost:8080/"
        },
        "id": "YUqiW57VXVgT",
        "outputId": "21aa983d-5f62-4793-b914-db945118219a"
      },
      "source": [
        "x is not z"
      ],
      "execution_count": 74,
      "outputs": [
        {
          "output_type": "execute_result",
          "data": {
            "text/plain": [
              "False"
            ]
          },
          "metadata": {},
          "execution_count": 74
        }
      ]
    }
  ]
}