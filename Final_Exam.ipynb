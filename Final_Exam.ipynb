{
  "nbformat": 4,
  "nbformat_minor": 0,
  "metadata": {
    "colab": {
      "name": "Final Exam.ipynb",
      "provenance": [],
      "collapsed_sections": [],
      "authorship_tag": "ABX9TyMqsFHkvjGwss+hA57YJiYr",
      "include_colab_link": true
    },
    "kernelspec": {
      "name": "python3",
      "display_name": "Python 3"
    },
    "language_info": {
      "name": "python"
    }
  },
  "cells": [
    {
      "cell_type": "markdown",
      "metadata": {
        "id": "view-in-github",
        "colab_type": "text"
      },
      "source": [
        "<a href=\"https://colab.research.google.com/github/GeraldChristianBalindan/CPEN-21A-CPE-1-2/blob/main/Final_Exam.ipynb\" target=\"_parent\"><img src=\"https://colab.research.google.com/assets/colab-badge.svg\" alt=\"Open In Colab\"/></a>"
      ]
    },
    {
      "cell_type": "markdown",
      "source": [
        "###Problem Statement #1"
      ],
      "metadata": {
        "id": "eAhvObXJXyjC"
      }
    },
    {
      "cell_type": "code",
      "source": [
        "n = [-5, -4, -3, -2, -1, 0, 1, 2, 3, 4]\n",
        "sum = 0\n",
        "\n",
        "for x in n:\n",
        "    sum = sum + x\n",
        "print(sum)"
      ],
      "metadata": {
        "colab": {
          "base_uri": "https://localhost:8080/"
        },
        "id": "Ngmy01_hXyKX",
        "outputId": "e332eb01-983c-42a9-89b3-a75ec37641bd"
      },
      "execution_count": 1,
      "outputs": [
        {
          "output_type": "stream",
          "name": "stdout",
          "text": [
            "-5\n"
          ]
        }
      ]
    },
    {
      "cell_type": "markdown",
      "source": [
        "###Problem Statement #2"
      ],
      "metadata": {
        "id": "XjWyyW2yX6Mj"
      }
    },
    {
      "cell_type": "code",
      "source": [
        "no = 1\n",
        "while no <= 5:\n",
        "  x = int(input())\n",
        "  if no == 1:\n",
        "    a = x\n",
        "  if no == 5:\n",
        "    b = x\n",
        "  no += 1\n",
        "print(a+b)"
      ],
      "metadata": {
        "colab": {
          "base_uri": "https://localhost:8080/"
        },
        "id": "5logT-M4X_4w",
        "outputId": "fd35596c-a0fe-40ab-d062-a12e16b4a956"
      },
      "execution_count": 2,
      "outputs": [
        {
          "output_type": "stream",
          "name": "stdout",
          "text": [
            "10\n",
            "24\n",
            "33\n",
            "46\n",
            "78\n",
            "88\n"
          ]
        }
      ]
    },
    {
      "cell_type": "markdown",
      "source": [
        "###Problem Statement #3\n"
      ],
      "metadata": {
        "id": "dlYKApgVYH4L"
      }
    },
    {
      "cell_type": "code",
      "source": [
        "grade = int(input(\"Please enter your grade here: \"))\n",
        "\n",
        "\n",
        "if grade >= 90: \n",
        "  print(\"Final Grade:A\")\n",
        "else:\n",
        "  if grade <= 89 and grade >= 80:\n",
        "      print(\"Final Grade:B\")\n",
        "  else:\n",
        "    if grade <= 79 and grade >= 70:\n",
        "      print(\"Final Grade:C\")\n",
        "    else:\n",
        "      if grade <= 69 and grade >= 60:\n",
        "        print(\"Final Grade:D\")\n",
        "      else:\n",
        "        print(\"Final Grade:F\")\n",
        "        \n",
        "      \n",
        "\n"
      ],
      "metadata": {
        "colab": {
          "base_uri": "https://localhost:8080/"
        },
        "id": "7ly_Nft5YLSn",
        "outputId": "86e251cc-da00-44a9-a0e1-4b770d0602b4"
      },
      "execution_count": 28,
      "outputs": [
        {
          "output_type": "stream",
          "name": "stdout",
          "text": [
            "Please enter your grade here: 90\n",
            "Final Grade:A\n"
          ]
        }
      ]
    }
  ]
}