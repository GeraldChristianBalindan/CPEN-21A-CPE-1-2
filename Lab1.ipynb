{
  "nbformat": 4,
  "nbformat_minor": 0,
  "metadata": {
    "colab": {
      "name": "Untitled1.ipynb",
      "provenance": [],
      "authorship_tag": "ABX9TyP//a+aE/1+RAGyqUaJVCIG",
      "include_colab_link": true
    },
    "kernelspec": {
      "name": "python3",
      "display_name": "Python 3"
    },
    "language_info": {
      "name": "python"
    }
  },
  "cells": [
    {
      "cell_type": "markdown",
      "metadata": {
        "id": "view-in-github",
        "colab_type": "text"
      },
      "source": [
        "<a href=\"https://colab.research.google.com/github/GeraldChristianBalindan/CPEN21A-CPE-1-2/blob/main/Lab1.ipynb\" target=\"_parent\"><img src=\"https://colab.research.google.com/assets/colab-badge.svg\" alt=\"Open In Colab\"/></a>"
      ]
    },
    {
      "cell_type": "markdown",
      "metadata": {
        "id": "FHsWLnyq1j9h"
      },
      "source": [
        "###Laboratory 1"
      ]
    },
    {
      "cell_type": "code",
      "metadata": {
        "colab": {
          "base_uri": "https://localhost:8080/"
        },
        "id": "1uaruCs41zlg",
        "outputId": "2091cd67-6cee-4f6d-a65c-835eea06791f"
      },
      "source": [
        "x = \"Welcome to Phython Programming\" #This is a comment\n",
        "print(x)"
      ],
      "execution_count": 1,
      "outputs": [
        {
          "output_type": "stream",
          "name": "stdout",
          "text": [
            "Welcome to Phython Programming\n"
          ]
        }
      ]
    },
    {
      "cell_type": "code",
      "metadata": {
        "colab": {
          "base_uri": "https://localhost:8080/"
        },
        "id": "-U2OUbMk3W8Q",
        "outputId": "8c4d787b-6ae4-46b3-8542-a75d7cc8ee54"
      },
      "source": [
        "name = \"Gerald Christian Balindan\" #This is the name of the user\n",
        "address = \"Blk 22 Lot 1 Suzuki St. Monte Carlo Townhomes, Bancal, Carmona, Cavite\" #This is the address of the user\n",
        "age = 19 #This is the age of the user\n",
        "print(\"Name: \"+ name)\n",
        "print(\"Address: \"+ address)\n",
        "print(\"Current Age:\",age,\"years old\")"
      ],
      "execution_count": 20,
      "outputs": [
        {
          "output_type": "stream",
          "name": "stdout",
          "text": [
            "Name: Gerald Christian Balindan\n",
            "Address: Blk 22 Lot 1 Suzuki St. Monte Carlo Townhomes, Bancal, Carmona, Cavite\n",
            "Current Age: 19 years old\n"
          ]
        }
      ]
    }
  ]
}