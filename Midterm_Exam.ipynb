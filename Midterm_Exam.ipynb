{
  "nbformat": 4,
  "nbformat_minor": 0,
  "metadata": {
    "colab": {
      "name": "Midterm Exam.ipynb",
      "provenance": [],
      "authorship_tag": "ABX9TyNTE+nluF0ABsBLL9287Y/h",
      "include_colab_link": true
    },
    "kernelspec": {
      "name": "python3",
      "display_name": "Python 3"
    },
    "language_info": {
      "name": "python"
    }
  },
  "cells": [
    {
      "cell_type": "markdown",
      "metadata": {
        "id": "view-in-github",
        "colab_type": "text"
      },
      "source": [
        "<a href=\"https://colab.research.google.com/github/GeraldChristianBalindan/CPEN-21A-CPE-1-2/blob/main/Midterm_Exam.ipynb\" target=\"_parent\"><img src=\"https://colab.research.google.com/assets/colab-badge.svg\" alt=\"Open In Colab\"/></a>"
      ]
    },
    {
      "cell_type": "markdown",
      "metadata": {
        "id": "YsfxxzuWBoFL"
      },
      "source": [
        "###Problem Statement #1"
      ]
    },
    {
      "cell_type": "code",
      "metadata": {
        "colab": {
          "base_uri": "https://localhost:8080/"
        },
        "id": "C5OWtPJLBxqK",
        "outputId": "94ed073d-2bc1-49c4-ec5d-5287696a7693"
      },
      "source": [
        "Full_Name = \"Gerald Christian Rey R. Balindan\"\n",
        "Student_Number = \"202101796\"\n",
        "Age = \"18 years old\"\n",
        "Birthday = \"December 18 2002\"\n",
        "Address = \"Blk 22 Lot 1 Suzuki St. Monte Carlo Townhomes, Bancal, Carmona, Cavite\"\n",
        "Course = \"Computer Engineering\"\n",
        "Last_Sem_GWA = 95\n",
        "\n",
        "print(f\"Full Name: \"+Full_Name)\n",
        "print(f\"Student Number: \"+Student_Number)\n",
        "print(f\"Age: \"+Age)\n",
        "print(f\"Birthday: \"+Birthday)\n",
        "print(f\"Address: \"+Address)\n",
        "print(f\"Course: \"+Course)\n",
        "print(f\"Last Sem GWA:\",Last_Sem_GWA)\n",
        "\n",
        "print(f\"My name is \" + Full_Name + \" I am a CVSU student with the Student No. of \" + Student_Number + \" Currently i am \" + Age + \" and my address is \" + Address)\n",
        "print(f\"Currently I am striving as a \" + Course + \"student\" + \" and my GWA before I became a CPE student is\",Last_Sem_GWA)"
      ],
      "execution_count": 74,
      "outputs": [
        {
          "output_type": "stream",
          "name": "stdout",
          "text": [
            "Full Name: Gerald Christian Rey R. Balindan\n",
            "Student Number: 202101796\n",
            "Age: 18 years old\n",
            "Birthday: December 18 2002\n",
            "Address: Blk 22 Lot 1 Suzuki St. Monte Carlo Townhomes, Bancal, Carmona, Cavite\n",
            "Course: Computer Engineering\n",
            "Last Sem GWA: 95\n",
            "My name is Gerald Christian Rey R. Balindan I am a CVSU student with the Student No. of 202101796 Currently i am 18 years old and my address is Blk 22 Lot 1 Suzuki St. Monte Carlo Townhomes, Bancal, Carmona, Cavite\n",
            "Currently I am striving as a Computer Engineeringstudent and my GWA before I became a CPE student is 95\n"
          ]
        }
      ]
    },
    {
      "cell_type": "markdown",
      "metadata": {
        "id": "ciHsMUH2EqpK"
      },
      "source": [
        "###Problem Statement #2"
      ]
    },
    {
      "cell_type": "code",
      "metadata": {
        "colab": {
          "base_uri": "https://localhost:8080/"
        },
        "id": "vYO5gAcSDejy",
        "outputId": "3921a3ce-9f80-472a-8861-a2793a5ffd57"
      },
      "source": [
        "n = 4\n",
        "answ = \"Y\"\n",
        "print(\"a.\",(2<n) and (n<6))\n",
        "print(\"b.\",(2<n) or (n==6))\n",
        "print(\"c.\",not(2<n) or (n==6))\n",
        "print(\"d.\",not(n<6))\n",
        "print(\"e.\",answ == \"Y\" or answ == \"y\")\n",
        "print(\"f.\",answ == \"Y\" and answ == \"y\")\n",
        "print(\"g.\",not(answ == \"y\"))\n",
        "print(\"h.\",((2<n)and(n == 5+1)) or (answ == \"No\"))\n",
        "print(\"i.\",((n == 2)and(n == 7)) or (answ == \"Y\"))\n",
        "print(\"j.\",(n == 2) and ((n == 7) or(answ == \"Y\")))"
      ],
      "execution_count": 64,
      "outputs": [
        {
          "output_type": "stream",
          "name": "stdout",
          "text": [
            "a. True\n",
            "b. True\n",
            "c. False\n",
            "d. False\n",
            "e. True\n",
            "f. False\n",
            "g. True\n",
            "h. False\n",
            "i. True\n",
            "j. False\n"
          ]
        }
      ]
    },
    {
      "cell_type": "markdown",
      "metadata": {
        "id": "khVR_12NJtgU"
      },
      "source": [
        "###Problem Statement #3"
      ]
    },
    {
      "cell_type": "code",
      "metadata": {
        "colab": {
          "base_uri": "https://localhost:8080/"
        },
        "id": "y-nM809NJyDb",
        "outputId": "57f7cab1-3361-47ff-8469-e38af23b7e48"
      },
      "source": [
        "x = 2\n",
        "y = -3\n",
        "w = 7\n",
        "z = -10\n",
        "print(\"a.\",x/y)\n",
        "print(\"b.\",w/y/x)\n",
        "print(\"c.\",z/y%x)\n",
        "print(\"d.\",x%-y*w)\n",
        "print(\"e.\",x%y)\n",
        "print(\"f.\",z%w-y/x*5+5)\n",
        "print(\"g.\",9-x%(2+y))\n",
        "print(\"h.\",z//w)\n",
        "print(\"i.\",(2+y)**2)\n",
        "print(\"j.\",w/x*2)"
      ],
      "execution_count": 62,
      "outputs": [
        {
          "output_type": "stream",
          "name": "stdout",
          "text": [
            "a. -0.6666666666666666\n",
            "b. -1.1666666666666667\n",
            "c. 1.3333333333333335\n",
            "d. 14\n",
            "e. -1\n",
            "f. 16.5\n",
            "g. 9\n",
            "h. -2\n",
            "i. 1\n",
            "j. 7.0\n"
          ]
        }
      ]
    }
  ]
}